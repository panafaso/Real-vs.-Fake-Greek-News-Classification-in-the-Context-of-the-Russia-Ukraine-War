{
  "nbformat": 4,
  "nbformat_minor": 0,
  "metadata": {
    "colab": {
      "provenance": []
    },
    "kernelspec": {
      "name": "python3",
      "display_name": "Python 3"
    },
    "language_info": {
      "name": "python"
    }
  },
  "cells": [
    {
      "cell_type": "code",
      "execution_count": 1,
      "metadata": {
        "colab": {
          "base_uri": "https://localhost:8080/"
        },
        "id": "Et2Drr0AIYeS",
        "outputId": "ec83d845-b9d1-457f-b2ad-f16790aaac6a"
      },
      "outputs": [
        {
          "output_type": "stream",
          "name": "stdout",
          "text": [
            "Collecting feedparser\n",
            "  Downloading feedparser-6.0.11-py3-none-any.whl.metadata (2.4 kB)\n",
            "Requirement already satisfied: pandas in /usr/local/lib/python3.12/dist-packages (2.2.2)\n",
            "Collecting sgmllib3k (from feedparser)\n",
            "  Downloading sgmllib3k-1.0.0.tar.gz (5.8 kB)\n",
            "  Preparing metadata (setup.py) ... \u001b[?25l\u001b[?25hdone\n",
            "Requirement already satisfied: numpy>=1.26.0 in /usr/local/lib/python3.12/dist-packages (from pandas) (2.0.2)\n",
            "Requirement already satisfied: python-dateutil>=2.8.2 in /usr/local/lib/python3.12/dist-packages (from pandas) (2.9.0.post0)\n",
            "Requirement already satisfied: pytz>=2020.1 in /usr/local/lib/python3.12/dist-packages (from pandas) (2025.2)\n",
            "Requirement already satisfied: tzdata>=2022.7 in /usr/local/lib/python3.12/dist-packages (from pandas) (2025.2)\n",
            "Requirement already satisfied: six>=1.5 in /usr/local/lib/python3.12/dist-packages (from python-dateutil>=2.8.2->pandas) (1.17.0)\n",
            "Downloading feedparser-6.0.11-py3-none-any.whl (81 kB)\n",
            "\u001b[2K   \u001b[90m━━━━━━━━━━━━━━━━━━━━━━━━━━━━━━━━━━━━━━━━\u001b[0m \u001b[32m81.3/81.3 kB\u001b[0m \u001b[31m1.8 MB/s\u001b[0m eta \u001b[36m0:00:00\u001b[0m\n",
            "\u001b[?25hBuilding wheels for collected packages: sgmllib3k\n",
            "  Building wheel for sgmllib3k (setup.py) ... \u001b[?25l\u001b[?25hdone\n",
            "  Created wheel for sgmllib3k: filename=sgmllib3k-1.0.0-py3-none-any.whl size=6046 sha256=e72175db24f50b8e7087f518dd62ca909eaea8c61856241324194a2eb62320fd\n",
            "  Stored in directory: /root/.cache/pip/wheels/03/f5/1a/23761066dac1d0e8e683e5fdb27e12de53209d05a4a37e6246\n",
            "Successfully built sgmllib3k\n",
            "Installing collected packages: sgmllib3k, feedparser\n",
            "Successfully installed feedparser-6.0.11 sgmllib3k-1.0.0\n"
          ]
        }
      ],
      "source": [
        "!pip install feedparser pandas"
      ]
    },
    {
      "cell_type": "code",
      "source": [
        "import feedparser\n",
        "import pandas as pd\n",
        "import requests\n",
        "from urllib.parse import quote\n",
        "import time\n",
        "\n",
        "queries = [\n",
        "    \"Ρωσία Ουκρανία\",\n",
        "    \"Ρωσία Ουκρανία 2022\",\n",
        "    \"Ρωσία Ουκρανία 2023\",\n",
        "    \"Ρωσία Ουκρανία 2024\",\n",
        "    \"Ζελένσκι Ρωσία\",\n",
        "    \"Ρωσία εισβολή\",\n",
        "    \"Ουκρανία πόλεμος\",\n",
        "    \"Ρωσία ΝΑΤΟ Ουκρανία\",\n",
        "    \"βόμβες Ουκρανία\",\n",
        "    \"πυραυλικές επιθέσεις Ουκρανία\",\n",
        "    \"Zaporizhzhia Ουκρανία\",\n",
        "    \"Ζαπορίζια Ρωσία\",\n",
        "    \"Χάρκοβο Ρωσία\",\n",
        "    \"Χερσώνα Ουκρανία\",\n",
        "    \"Μαριούπολη Ουκρανία\",\n",
        "    \"Ιζιούμ Ουκρανία\",\n",
        "    \"Λβιβ Ουκρανία\",\n",
        "    \"Ντνίπρο Ουκρανία\",\n",
        "    \"Οδησσός Ουκρανία\",\n",
        "    \"Μικολάιβ Ουκρανία\",\n",
        "    \"Zelenskyy Biden Ουκρανία\",\n",
        "    \"ρωσικός στρατός Ουκρανία\",\n",
        "    \"κατοχή Ουκρανία\",\n",
        "    \"πυρηνική απειλή Ρωσία Ουκρανία\",\n",
        "    \"εγκλήματα πολέμου Ρωσία\",\n",
        "    \"βομβαρδισμός αμάχων Ουκρανία\"\n",
        "]\n",
        "\n",
        "data = []\n",
        "\n",
        "headers = {'User-Agent': 'Mozilla/5.0'}\n",
        "\n",
        "for q in queries:\n",
        "  search_query = quote(q)\n",
        "  rss_url = f\"https://news.google.com/rss/search?q={search_query}&hl=el&gl=GR&ceid=GR:el\"\n",
        "\n",
        "  print(f\"🔍 Fetching for: {q}\")\n",
        "  feed = feedparser.parse(rss_url)\n",
        "  time.sleep(1)\n",
        "\n",
        "  for entry in feed.entries:\n",
        "    title = entry.title\n",
        "    google_link = entry.link\n",
        "    summary = entry.summary if 'summary' in entry else ''\n",
        "    site = \"\"\n",
        "\n",
        "    try:\n",
        "      response = requests.get(google_link, headers=headers, timeout=10, allow_redirects=True)\n",
        "      final_url = response.url\n",
        "      site = requests.utils.urlparse(final_url).netloc\n",
        "    except:\n",
        "      final_url = \"FAILED_TO_RESOLVE\"\n",
        "\n",
        "    data.append({\n",
        "        \"google_news_url\": google_link,\n",
        "        \"final_url\": final_url,\n",
        "        \"site\": site,\n",
        "        \"title\": title,\n",
        "        \"query\": q\n",
        "        })\n",
        "\n",
        "# Remove duplicates\n",
        "df = pd.DataFrame(data).drop_duplicates(subset=\"final_url\")\n",
        "\n",
        "# Save to Excel\n",
        "df.to_excel(\"russia_ukraine_articles_resolved.xlsx\", index=False)\n",
        "print(f\"Saved {len(df)} articles to real_news_russia_ukraine_articles.xlsx\")"
      ],
      "metadata": {
        "colab": {
          "base_uri": "https://localhost:8080/"
        },
        "id": "Jv-umzYWIh0C",
        "outputId": "15ef3eea-82d5-4d67-e47c-d08a1887ad02"
      },
      "execution_count": 2,
      "outputs": [
        {
          "output_type": "stream",
          "name": "stdout",
          "text": [
            "🔍 Fetching for: Ρωσία Ουκρανία\n",
            "🔍 Fetching for: Ρωσία Ουκρανία 2022\n",
            "🔍 Fetching for: Ρωσία Ουκρανία 2023\n",
            "🔍 Fetching for: Ρωσία Ουκρανία 2024\n",
            "🔍 Fetching for: Ζελένσκι Ρωσία\n",
            "🔍 Fetching for: Ρωσία εισβολή\n",
            "🔍 Fetching for: Ουκρανία πόλεμος\n",
            "🔍 Fetching for: Ρωσία ΝΑΤΟ Ουκρανία\n",
            "🔍 Fetching for: βόμβες Ουκρανία\n",
            "🔍 Fetching for: πυραυλικές επιθέσεις Ουκρανία\n",
            "🔍 Fetching for: Zaporizhzhia Ουκρανία\n",
            "🔍 Fetching for: Ζαπορίζια Ρωσία\n",
            "🔍 Fetching for: Χάρκοβο Ρωσία\n",
            "🔍 Fetching for: Χερσώνα Ουκρανία\n",
            "🔍 Fetching for: Μαριούπολη Ουκρανία\n",
            "🔍 Fetching for: Ιζιούμ Ουκρανία\n",
            "🔍 Fetching for: Λβιβ Ουκρανία\n",
            "🔍 Fetching for: Ντνίπρο Ουκρανία\n",
            "🔍 Fetching for: Οδησσός Ουκρανία\n",
            "🔍 Fetching for: Μικολάιβ Ουκρανία\n",
            "🔍 Fetching for: Zelenskyy Biden Ουκρανία\n",
            "🔍 Fetching for: ρωσικός στρατός Ουκρανία\n",
            "🔍 Fetching for: κατοχή Ουκρανία\n",
            "🔍 Fetching for: πυρηνική απειλή Ρωσία Ουκρανία\n",
            "🔍 Fetching for: εγκλήματα πολέμου Ρωσία\n",
            "🔍 Fetching for: βομβαρδισμός αμάχων Ουκρανία\n",
            "Saved 1921 articles to real_news_russia_ukraine_articles.xlsx\n"
          ]
        }
      ]
    }
  ]
}