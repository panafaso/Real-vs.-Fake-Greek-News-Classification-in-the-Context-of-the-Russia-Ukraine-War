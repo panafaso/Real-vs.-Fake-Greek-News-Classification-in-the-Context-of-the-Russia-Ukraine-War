{
  "nbformat": 4,
  "nbformat_minor": 0,
  "metadata": {
    "colab": {
      "provenance": []
    },
    "kernelspec": {
      "name": "python3",
      "display_name": "Python 3"
    },
    "language_info": {
      "name": "python"
    }
  },
  "cells": [
    {
      "cell_type": "code",
      "source": [
        "from google.colab import drive\n",
        "drive.mount('/content/drive')"
      ],
      "metadata": {
        "colab": {
          "base_uri": "https://localhost:8080/"
        },
        "id": "KPynIWaSEDpQ",
        "outputId": "42390a3b-b259-48b0-fd7f-798777cb84a9"
      },
      "execution_count": 2,
      "outputs": [
        {
          "output_type": "stream",
          "name": "stdout",
          "text": [
            "Mounted at /content/drive\n"
          ]
        }
      ]
    },
    {
      "cell_type": "code",
      "execution_count": 35,
      "metadata": {
        "colab": {
          "base_uri": "https://localhost:8080/"
        },
        "id": "PwFxshU_Dehc",
        "outputId": "e5a90951-bcba-4530-9e82-44dbb0077a60"
      },
      "outputs": [
        {
          "output_type": "stream",
          "name": "stdout",
          "text": [
            "Preview of general dataset:\n",
            "   id                                              title  author  \\\n",
            "0   0  Ξεκινά 1η Ιουνίου εμβολιασμός για προστασία απ...     NaN   \n",
            "1   1  Προμηθέας: Στην καλύτερη πεντάδα του Adidas Ne...     NaN   \n",
            "2   2  Πήρε «φωτιά» το 1110: Εκατοντάδες καταγγελίες ...     NaN   \n",
            "3   3  Από ισχυρό μετατραυματικό στρες υποφέρει ο Θάν...     NaN   \n",
            "4   4  Βρετανία: Φτάνει στο αποκορύφωμα του ο κορωνοϊ...     NaN   \n",
            "\n",
            "                                                text label  \n",
            "0  Εδωσε το πράσινο φως ο ΕΟΦ – Δείτε αναλυτικά π...     1  \n",
            "1  Η παρουσία του Προμηθέα Πάτρας στο Adidas Next...     0  \n",
            "2  Εντατικούς ελέγχους στην αγορά για την πάταξη ...     0  \n",
            "3  Σε κάκιστη ψυχολογική κατάσταση βρίσκεται τις ...     1  \n",
            "4  Σύμφωνα με τις δηλώσεις του υπουργού Υγείας, τ...     0  \n"
          ]
        },
        {
          "output_type": "stream",
          "name": "stderr",
          "text": [
            "/tmp/ipython-input-47482244.py:12: FutureWarning: Downcasting behavior in `replace` is deprecated and will be removed in a future version. To retain the old behavior, explicitly call `result.infer_objects(copy=False)`. To opt-in to the future behavior, set `pd.set_option('future.no_silent_downcasting', True)`\n",
            "  df_parsed['label'] = df_parsed['label'].astype(str).str.strip().replace({'real': 0, 'fake': 1})\n"
          ]
        },
        {
          "output_type": "stream",
          "name": "stdout",
          "text": [
            "Final dataset shape: (1000, 2)\n",
            "Label distribution:\n",
            "label\n",
            "1    500\n",
            "0    500\n",
            "Name: count, dtype: int64\n",
            "                                                  text  label\n",
            "0    Ορατό από το διάστημα το πυρηνικό «μανιτάρι» μ...      1\n",
            "1    Η ΡΩΣΙΑ ΔΕΝ ΠΡΟΚΕΙΤΑΙ ΝΑ ΕΙΣΒΑΛΕΙ ΣΤΗΝ ΟΥΚΡΑΝΙ...      1\n",
            "2    Φιάσκο οι διαπραγματεύσεις στην Κωνσταντινούπο...      1\n",
            "3    Η Ρωσία εξαπέλυσε τη μεγαλύτερη αεροπορική επί...      0\n",
            "4    Ουκρανικό: Σε ειρηνευτική συνάντηση πάνε Ρωσία...      0\n",
            "..                                                 ...    ...\n",
            "995  Γιατί ο Μπάιντεν επιτρέπει τώρα στην Ουκρανία ...      0\n",
            "996  Ουκρανία: Μπαράζ ρωσικών επιθέσεων κατά τη διά...      0\n",
            "997  Ουκρανία: Δορυφορικές εικόνες αποκαλύπτουν το ...      0\n",
            "998  ΒΙΝΤΕΟ ΦΡΙΚΗ! Εγκλήματα του ΟυκροΡάιχ που ξεπέ...      1\n",
            "999  Ξεκίνησε το αντάρτικο στην Ουκρανία - Αντιστασ...      1\n",
            "\n",
            "[1000 rows x 2 columns]\n"
          ]
        }
      ],
      "source": [
        "import pandas as pd\n",
        "\n",
        "# Read the general dataset\n",
        "df = pd.read_csv(\"/content/drive/MyDrive/dataset.csv\")\n",
        "print(\"Preview of general dataset:\")\n",
        "print(df.head())\n",
        "\n",
        "# Read the Russia-Ukraine parsed dataset\n",
        "df_parsed = pd.read_csv(\"/content/drive/MyDrive/parsed_articles.csv\")\n",
        "\n",
        "# Convert labels from 'real'/'fake' to 0/1\n",
        "df_parsed['label'] = df_parsed['label'].astype(str).str.strip().replace({'real': 0, 'fake': 1})\n",
        "df_parsed['label'] = df_parsed['label'].astype(int)\n",
        "\n",
        "# Read the general dataset again for sampling\n",
        "df_general = pd.read_csv(\"/content/drive/MyDrive/dataset.csv\")\n",
        "\n",
        "# Clean and normalize the labels in general dataset\n",
        "df_general['label'] = df_general['label'].astype(str).str.strip().replace({'real': 0, 'fake': 1})\n",
        "df_general['label'] = pd.to_numeric(df_general['label'], errors='coerce')\n",
        "df_general = df_general[df_general['label'].isin([0, 1])]  # Keep only 0 or 1 labels\n",
        "df_general = df_general[['text', 'label']].dropna()        # Keep only text and label columns\n",
        "df_general['label'] = df_general['label'].astype(int)\n",
        "\n",
        "# Count how many real and fake articles already exist\n",
        "real_parsed = df_parsed[df_parsed['label'] == 0]\n",
        "fake_parsed = df_parsed[df_parsed['label'] == 1]\n",
        "\n",
        "# We want 500 real and 500 fake articles total\n",
        "real_needed = max(0, 500 - len(real_parsed))\n",
        "fake_needed = max(0, 500 - len(fake_parsed))\n",
        "\n",
        "# Get extra real/fake articles from the general dataset if needed\n",
        "real_pool = df_general[df_general['label'] == 0]\n",
        "fake_pool = df_general[df_general['label'] == 1]\n",
        "\n",
        "# Sample only if needed and enough samples exist\n",
        "real_extra = real_pool.sample(n=real_needed, random_state=12) if real_needed > 0 and len(real_pool) >= real_needed else pd.DataFrame(columns=df_general.columns)\n",
        "fake_extra = fake_pool.sample(n=fake_needed, random_state=12) if fake_needed > 0 and len(fake_pool) >= fake_needed else pd.DataFrame(columns=df_general.columns)\n",
        "\n",
        "# Combine the original and extra data\n",
        "df_final = pd.concat([real_parsed, fake_parsed, real_extra, fake_extra], ignore_index=True)\n",
        "\n",
        "# Shuffle the final dataset to randomize the order\n",
        "df_final = df_final.sample(frac=1, random_state=12).reset_index(drop=True)\n",
        "\n",
        "# Save the final dataset to a CSV file\n",
        "df_final.to_csv(\"/content/drive/MyDrive/final_russia_ukraine_dataset.csv\", index=False)\n",
        "\n",
        "# Show summary\n",
        "print(\"Final dataset shape:\", df_final.shape)\n",
        "print(\"Label distribution:\")\n",
        "print(df_final['label'].value_counts())\n",
        "print(df_final)"
      ]
    },
    {
      "cell_type": "code",
      "source": [
        "import pandas as pd\n",
        "\n",
        "# Load the Russia–Ukraine dataset (balanced: 500 real +500 fake)\n",
        "df_russia = pd.read_csv(\"/content/drive/MyDrive/final_russia_ukraine_dataset.csv\")\n",
        "\n",
        "# Load the general dataset from your file\n",
        "df_general = pd.read_csv(\"/content/drive/MyDrive/dataset.csv\")\n",
        "\n",
        "# Make sure labels are numbers (0 = real, 1 = fake)\n",
        "df_general['label'] = df_general['label'].astype(str).str.strip()\n",
        "df_general['label'] = df_general['label'].replace({'real': 0, 'fake': 1})\n",
        "df_general['label'] = pd.to_numeric(df_general['label'], errors='coerce')\n",
        "df_general = df_general[df_general['label'].isin([0, 1])]  # Keep only valid labels\n",
        "\n",
        "# Select 500 real and 500 fake articles from the github dataset\n",
        "real_general = df_general[df_general['label'] == 0].sample(n=500, random_state=12)\n",
        "fake_general = df_general[df_general['label'] == 1].sample(n=500, random_state=12)\n",
        "\n",
        "# Combine the two groups into one dataframe\n",
        "df_general_balanced = pd.concat([real_general, fake_general], ignore_index=True)\n",
        "\n",
        "# Combine Russia–Ukraine dataset with the github dataset\n",
        "df_combined = pd.concat([df_russia, df_general_balanced], ignore_index=True)\n",
        "\n",
        "# Keep only 'text' and 'label' columns\n",
        "df_combined = df_combined[['text', 'label']]\n",
        "\n",
        "# Shuffle the combined dataset\n",
        "df_combined = df_combined.sample(frac=1, random_state=12).reset_index(drop=True)\n",
        "\n",
        "# Save the final combined dataset to a CSV file\n",
        "df_combined.to_csv(\"/content/drive/MyDrive/combined_final_dataset.csv\", index=False)\n",
        "\n",
        "print(\"Final dataset size:\", df_combined.shape)\n",
        "print(df_combined['label'].value_counts())\n",
        "print(df_combined)"
      ],
      "metadata": {
        "colab": {
          "base_uri": "https://localhost:8080/"
        },
        "id": "Q-_MhqupZA9H",
        "outputId": "a6f55ec9-11fc-4b5e-adf8-3b3f5d2e078a"
      },
      "execution_count": 36,
      "outputs": [
        {
          "output_type": "stream",
          "name": "stdout",
          "text": [
            "Final dataset size: (2000, 2)\n",
            "label\n",
            "0.0    1000\n",
            "1.0    1000\n",
            "Name: count, dtype: int64\n",
            "                                                   text  label\n",
            "0     Ζελένσκι: Η ένταξη στο ΝΑΤΟ και οι ειρηνευτικέ...    0.0\n",
            "1     Καμία ξένη δύναμη δεν βρίσκεται σε ελληνικό έδ...    0.0\n",
            "2     Έτοιμοι να διαφύγουν στο εξωτερικό Ζελένσκι κα...    1.0\n",
            "3     …μας το έστειλε ένας φίλος… Ένας άνθρωπος που ...    1.0\n",
            "4     Οδοιπορικό σε ένα απομακρυσμένο και για πολλού...    1.0\n",
            "...                                                 ...    ...\n",
            "1995  Με επιστολή του υφυπουργός αθλητισμού, Λευτέρη...    0.0\n",
            "1996  O ΠΑΟΚ πήρε πολύτιμη όσο και δύσκολη νίκη στο ...    0.0\n",
            "1997  Δείτε όλες τις τελευταίες Ειδήσεις από την Ελλ...    0.0\n",
            "1998  Εντονες αντιδράσεις έχει προκαλέσει το γεγονός...    1.0\n",
            "1999  Την αξιοποίηση του δημοφιλή τραγουδιστή Γιάννη...    1.0\n",
            "\n",
            "[2000 rows x 2 columns]\n"
          ]
        }
      ]
    }
  ]
}